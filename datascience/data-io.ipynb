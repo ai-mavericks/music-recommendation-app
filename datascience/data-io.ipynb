{
 "cells": [
  {
   "cell_type": "code",
   "execution_count": null,
   "metadata": {},
   "outputs": [],
   "source": [
    "# AWS Python SDK\n",
    "import boto3"
   ]
  },
  {
   "cell_type": "code",
   "execution_count": null,
   "metadata": {},
   "outputs": [],
   "source": [
    "# When running on SageMaker, need execution role\n",
    "from sagemaker import get_execution_role\n",
    "\n",
    "def download_file(in_path,out_path):\n",
    "    role = get_execution_role()\n",
    "\n",
    "    # Declare bucket name, remote file, and destination\n",
    "    my_bucket = 'capstone-model'\n",
    "\n",
    "    # Connect to S3 bucket and download file\n",
    "    s3 = boto3.resource('s3')\n",
    "    s3.Bucket(my_bucket).download_file(in_path, out_path)"
   ]
  },
  {
   "cell_type": "code",
   "execution_count": null,
   "metadata": {},
   "outputs": [],
   "source": [
    "download_file('extracted_data/view_songs_with_genre_and_album_covers.csv','track_metadata_with_genre_and_image.csv')"
   ]
  },
  {
   "cell_type": "code",
   "execution_count": null,
   "metadata": {},
   "outputs": [],
   "source": [
    "download_file('extracted_data/data_with_artist_id.csv','track_metadata_with_genre_and_image.csv')"
   ]
  }
 ],
 "metadata": {
  "language_info": {
   "name": "plaintext"
  },
  "orig_nbformat": 4
 },
 "nbformat": 4,
 "nbformat_minor": 2
}
