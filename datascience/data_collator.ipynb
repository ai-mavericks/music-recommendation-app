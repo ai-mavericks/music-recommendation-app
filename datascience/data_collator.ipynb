{
 "cells": [
  {
   "cell_type": "code",
   "execution_count": 4,
   "id": "dcaac669",
   "metadata": {},
   "outputs": [],
   "source": [
    "import pandas as pd"
   ]
  },
  {
   "cell_type": "code",
   "execution_count": 11,
   "id": "779e31ef",
   "metadata": {},
   "outputs": [
    {
     "name": "stderr",
     "output_type": "stream",
     "text": [
      "b'Skipping line 20862: expected 61 fields, saw 62\\n'\n",
      "b'Skipping line 305071: expected 61 fields, saw 62\\n'\n",
      "b'Skipping line 321319: expected 61 fields, saw 63\\n'\n",
      "b'Skipping line 382486: expected 61 fields, saw 62\\n'\n",
      "b'Skipping line 457647: expected 61 fields, saw 62\\n'\n",
      "b'Skipping line 632438: expected 61 fields, saw 62\\n'\n",
      "b'Skipping line 653392: expected 61 fields, saw 62\\n'\n",
      "b'Skipping line 774529: expected 61 fields, saw 62\\n'\n",
      "b'Skipping line 849565: expected 61 fields, saw 62\\n'\n",
      "b'Skipping line 902964: expected 61 fields, saw 62\\n'\n",
      "b'Skipping line 959421: expected 61 fields, saw 62\\n'\n"
     ]
    }
   ],
   "source": [
    "full_data = pd.read_csv(\"data.tsv\", sep='\\t', header=0, error_bad_lines=False)"
   ]
  },
  {
   "cell_type": "code",
   "execution_count": 12,
   "id": "5c2a18da",
   "metadata": {},
   "outputs": [
    {
     "data": {
      "text/html": [
       "<div>\n",
       "<style scoped>\n",
       "    .dataframe tbody tr th:only-of-type {\n",
       "        vertical-align: middle;\n",
       "    }\n",
       "\n",
       "    .dataframe tbody tr th {\n",
       "        vertical-align: top;\n",
       "    }\n",
       "\n",
       "    .dataframe thead th {\n",
       "        text-align: right;\n",
       "    }\n",
       "</style>\n",
       "<table border=\"1\" class=\"dataframe\">\n",
       "  <thead>\n",
       "    <tr style=\"text-align: right;\">\n",
       "      <th></th>\n",
       "      <th>#track_id</th>\n",
       "      <th>ID</th>\n",
       "      <th>title</th>\n",
       "      <th>artist_id</th>\n",
       "      <th>release</th>\n",
       "      <th>artist_familiarity</th>\n",
       "      <th>artist_hotttness</th>\n",
       "      <th>duration</th>\n",
       "      <th>end_of_fade_in</th>\n",
       "      <th>key</th>\n",
       "      <th>...</th>\n",
       "      <th>mean_difference_segments_start</th>\n",
       "      <th>std_difference_segments_start</th>\n",
       "      <th>mean_segments_confidence</th>\n",
       "      <th>mean_max_segments_loudness</th>\n",
       "      <th>mean_difference_segments_loudness_max_time</th>\n",
       "      <th>std_difference_segments_loudness_max_time</th>\n",
       "      <th>mean_loudness_segements_start</th>\n",
       "      <th>mean_difference_sections_start</th>\n",
       "      <th>std_difference_sections_start</th>\n",
       "      <th>mean_sections_confidence</th>\n",
       "    </tr>\n",
       "  </thead>\n",
       "  <tbody>\n",
       "    <tr>\n",
       "      <th>0</th>\n",
       "      <td>TRGGGPJ128F4270507</td>\n",
       "      <td>SOSRHNA12A8C135E93</td>\n",
       "      <td>Give Me My Baby</td>\n",
       "      <td>ARNSTGP1187FB59667</td>\n",
       "      <td>Rated X-Traordinaire: The Best of Johnnie Taylor</td>\n",
       "      <td>0.621157</td>\n",
       "      <td>0.403507</td>\n",
       "      <td>226.61179</td>\n",
       "      <td>0.462</td>\n",
       "      <td>10</td>\n",
       "      <td>...</td>\n",
       "      <td>0.286661</td>\n",
       "      <td>0.130319</td>\n",
       "      <td>0.613985</td>\n",
       "      <td>-13.485321</td>\n",
       "      <td>0.000102</td>\n",
       "      <td>0.074912</td>\n",
       "      <td>-21.468798</td>\n",
       "      <td>18.340799</td>\n",
       "      <td>7.992037</td>\n",
       "      <td>0.522231</td>\n",
       "    </tr>\n",
       "    <tr>\n",
       "      <th>1</th>\n",
       "      <td>TRGGGTH128F93232C9</td>\n",
       "      <td>SOWPTPG12AB017F7D8</td>\n",
       "      <td>Inutilmente</td>\n",
       "      <td>AR0R2CT1187FB4E64E</td>\n",
       "      <td>Vive</td>\n",
       "      <td>0.513315</td>\n",
       "      <td>0.409471</td>\n",
       "      <td>320.78322</td>\n",
       "      <td>0.283</td>\n",
       "      <td>6</td>\n",
       "      <td>...</td>\n",
       "      <td>0.324595</td>\n",
       "      <td>0.255147</td>\n",
       "      <td>0.542650</td>\n",
       "      <td>-15.749644</td>\n",
       "      <td>-0.000136</td>\n",
       "      <td>0.081615</td>\n",
       "      <td>-23.005293</td>\n",
       "      <td>27.498165</td>\n",
       "      <td>8.897476</td>\n",
       "      <td>0.638000</td>\n",
       "    </tr>\n",
       "    <tr>\n",
       "      <th>2</th>\n",
       "      <td>TRGGGLD128F92E85A0</td>\n",
       "      <td>SOAMQNT12A8C144C91</td>\n",
       "      <td>Mugger's Day (Comedy)</td>\n",
       "      <td>ARELDIS1187B9ABC79</td>\n",
       "      <td>The Rutland Isles</td>\n",
       "      <td>0.521317</td>\n",
       "      <td>0.363496</td>\n",
       "      <td>128.80934</td>\n",
       "      <td>0.000</td>\n",
       "      <td>2</td>\n",
       "      <td>...</td>\n",
       "      <td>0.291671</td>\n",
       "      <td>0.163569</td>\n",
       "      <td>0.609691</td>\n",
       "      <td>-10.001584</td>\n",
       "      <td>0.000028</td>\n",
       "      <td>0.076996</td>\n",
       "      <td>-18.198775</td>\n",
       "      <td>29.076392</td>\n",
       "      <td>23.504903</td>\n",
       "      <td>0.549000</td>\n",
       "    </tr>\n",
       "    <tr>\n",
       "      <th>3</th>\n",
       "      <td>TRGGGNL128F9326506</td>\n",
       "      <td>SOIKYPA12AF729C3B0</td>\n",
       "      <td>Ice Cube</td>\n",
       "      <td>AR6WA0T1187B98E7DE</td>\n",
       "      <td>Beyond The Infinite</td>\n",
       "      <td>0.661153</td>\n",
       "      <td>0.446094</td>\n",
       "      <td>423.02649</td>\n",
       "      <td>0.000</td>\n",
       "      <td>8</td>\n",
       "      <td>...</td>\n",
       "      <td>0.190366</td>\n",
       "      <td>0.131063</td>\n",
       "      <td>0.540964</td>\n",
       "      <td>-12.076394</td>\n",
       "      <td>-0.000074</td>\n",
       "      <td>0.036248</td>\n",
       "      <td>-20.081861</td>\n",
       "      <td>34.139726</td>\n",
       "      <td>25.882908</td>\n",
       "      <td>0.734769</td>\n",
       "    </tr>\n",
       "    <tr>\n",
       "      <th>4</th>\n",
       "      <td>TRGGGRV128F4275312</td>\n",
       "      <td>SOAUNAT12A8C1373CE</td>\n",
       "      <td>Marine corps (marine)</td>\n",
       "      <td>ARCVMYS12454A51E6E</td>\n",
       "      <td>Running cadences of the US Armed Forces</td>\n",
       "      <td>0.419941</td>\n",
       "      <td>0.249137</td>\n",
       "      <td>102.92200</td>\n",
       "      <td>1.065</td>\n",
       "      <td>1</td>\n",
       "      <td>...</td>\n",
       "      <td>0.263955</td>\n",
       "      <td>0.108803</td>\n",
       "      <td>0.769201</td>\n",
       "      <td>-20.034267</td>\n",
       "      <td>0.000602</td>\n",
       "      <td>0.068235</td>\n",
       "      <td>-34.254537</td>\n",
       "      <td>45.119505</td>\n",
       "      <td>22.440605</td>\n",
       "      <td>0.484667</td>\n",
       "    </tr>\n",
       "  </tbody>\n",
       "</table>\n",
       "<p>5 rows × 61 columns</p>\n",
       "</div>"
      ],
      "text/plain": [
       "            #track_id                  ID                  title  \\\n",
       "0  TRGGGPJ128F4270507  SOSRHNA12A8C135E93        Give Me My Baby   \n",
       "1  TRGGGTH128F93232C9  SOWPTPG12AB017F7D8            Inutilmente   \n",
       "2  TRGGGLD128F92E85A0  SOAMQNT12A8C144C91  Mugger's Day (Comedy)   \n",
       "3  TRGGGNL128F9326506  SOIKYPA12AF729C3B0               Ice Cube   \n",
       "4  TRGGGRV128F4275312  SOAUNAT12A8C1373CE  Marine corps (marine)   \n",
       "\n",
       "            artist_id                                           release  \\\n",
       "0  ARNSTGP1187FB59667  Rated X-Traordinaire: The Best of Johnnie Taylor   \n",
       "1  AR0R2CT1187FB4E64E                                              Vive   \n",
       "2  ARELDIS1187B9ABC79                                 The Rutland Isles   \n",
       "3  AR6WA0T1187B98E7DE                               Beyond The Infinite   \n",
       "4  ARCVMYS12454A51E6E           Running cadences of the US Armed Forces   \n",
       "\n",
       "   artist_familiarity  artist_hotttness   duration  end_of_fade_in  key  ...  \\\n",
       "0            0.621157          0.403507  226.61179           0.462   10  ...   \n",
       "1            0.513315          0.409471  320.78322           0.283    6  ...   \n",
       "2            0.521317          0.363496  128.80934           0.000    2  ...   \n",
       "3            0.661153          0.446094  423.02649           0.000    8  ...   \n",
       "4            0.419941          0.249137  102.92200           1.065    1  ...   \n",
       "\n",
       "   mean_difference_segments_start  std_difference_segments_start  \\\n",
       "0                        0.286661                       0.130319   \n",
       "1                        0.324595                       0.255147   \n",
       "2                        0.291671                       0.163569   \n",
       "3                        0.190366                       0.131063   \n",
       "4                        0.263955                       0.108803   \n",
       "\n",
       "   mean_segments_confidence  mean_max_segments_loudness  \\\n",
       "0                  0.613985                  -13.485321   \n",
       "1                  0.542650                  -15.749644   \n",
       "2                  0.609691                  -10.001584   \n",
       "3                  0.540964                  -12.076394   \n",
       "4                  0.769201                  -20.034267   \n",
       "\n",
       "   mean_difference_segments_loudness_max_time  \\\n",
       "0                                    0.000102   \n",
       "1                                   -0.000136   \n",
       "2                                    0.000028   \n",
       "3                                   -0.000074   \n",
       "4                                    0.000602   \n",
       "\n",
       "   std_difference_segments_loudness_max_time  mean_loudness_segements_start  \\\n",
       "0                                   0.074912                     -21.468798   \n",
       "1                                   0.081615                     -23.005293   \n",
       "2                                   0.076996                     -18.198775   \n",
       "3                                   0.036248                     -20.081861   \n",
       "4                                   0.068235                     -34.254537   \n",
       "\n",
       "   mean_difference_sections_start  std_difference_sections_start  \\\n",
       "0                       18.340799                       7.992037   \n",
       "1                       27.498165                       8.897476   \n",
       "2                       29.076392                      23.504903   \n",
       "3                       34.139726                      25.882908   \n",
       "4                       45.119505                      22.440605   \n",
       "\n",
       "   mean_sections_confidence  \n",
       "0                  0.522231  \n",
       "1                  0.638000  \n",
       "2                  0.549000  \n",
       "3                  0.734769  \n",
       "4                  0.484667  \n",
       "\n",
       "[5 rows x 61 columns]"
      ]
     },
     "execution_count": 12,
     "metadata": {},
     "output_type": "execute_result"
    }
   ],
   "source": [
    "full_data.head()"
   ]
  },
  {
   "cell_type": "code",
   "execution_count": 18,
   "id": "4b505a3e",
   "metadata": {},
   "outputs": [
    {
     "data": {
      "text/html": [
       "<div>\n",
       "<style scoped>\n",
       "    .dataframe tbody tr th:only-of-type {\n",
       "        vertical-align: middle;\n",
       "    }\n",
       "\n",
       "    .dataframe tbody tr th {\n",
       "        vertical-align: top;\n",
       "    }\n",
       "\n",
       "    .dataframe thead th {\n",
       "        text-align: right;\n",
       "    }\n",
       "</style>\n",
       "<table border=\"1\" class=\"dataframe\">\n",
       "  <thead>\n",
       "    <tr style=\"text-align: right;\">\n",
       "      <th></th>\n",
       "      <th>#track_id</th>\n",
       "      <th>title</th>\n",
       "      <th>duration</th>\n",
       "    </tr>\n",
       "  </thead>\n",
       "  <tbody>\n",
       "    <tr>\n",
       "      <th>0</th>\n",
       "      <td>TRGGGPJ128F4270507</td>\n",
       "      <td>Give Me My Baby</td>\n",
       "      <td>226.61179</td>\n",
       "    </tr>\n",
       "    <tr>\n",
       "      <th>1</th>\n",
       "      <td>TRGGGTH128F93232C9</td>\n",
       "      <td>Inutilmente</td>\n",
       "      <td>320.78322</td>\n",
       "    </tr>\n",
       "    <tr>\n",
       "      <th>2</th>\n",
       "      <td>TRGGGLD128F92E85A0</td>\n",
       "      <td>Mugger's Day (Comedy)</td>\n",
       "      <td>128.80934</td>\n",
       "    </tr>\n",
       "    <tr>\n",
       "      <th>3</th>\n",
       "      <td>TRGGGNL128F9326506</td>\n",
       "      <td>Ice Cube</td>\n",
       "      <td>423.02649</td>\n",
       "    </tr>\n",
       "    <tr>\n",
       "      <th>4</th>\n",
       "      <td>TRGGGRV128F4275312</td>\n",
       "      <td>Marine corps (marine)</td>\n",
       "      <td>102.92200</td>\n",
       "    </tr>\n",
       "    <tr>\n",
       "      <th>...</th>\n",
       "      <td>...</td>\n",
       "      <td>...</td>\n",
       "      <td>...</td>\n",
       "    </tr>\n",
       "    <tr>\n",
       "      <th>999984</th>\n",
       "      <td>TRFFFQJ12903CBABA3</td>\n",
       "      <td>Get'cha Money</td>\n",
       "      <td>212.40118</td>\n",
       "    </tr>\n",
       "    <tr>\n",
       "      <th>999985</th>\n",
       "      <td>TRFFFEA128F146A9B2</td>\n",
       "      <td>Travels In Nihilon (2001 Digital Remaster)</td>\n",
       "      <td>423.62730</td>\n",
       "    </tr>\n",
       "    <tr>\n",
       "      <th>999986</th>\n",
       "      <td>TRFFFJW128F4263812</td>\n",
       "      <td>Are We Still Married?</td>\n",
       "      <td>174.99383</td>\n",
       "    </tr>\n",
       "    <tr>\n",
       "      <th>999987</th>\n",
       "      <td>TRFFFPI128F9308887</td>\n",
       "      <td>The Hesitating Blues</td>\n",
       "      <td>157.98812</td>\n",
       "    </tr>\n",
       "    <tr>\n",
       "      <th>999988</th>\n",
       "      <td>TRFFFGE128F426DBC0</td>\n",
       "      <td>Give That Love To Me</td>\n",
       "      <td>116.97587</td>\n",
       "    </tr>\n",
       "  </tbody>\n",
       "</table>\n",
       "<p>999989 rows × 3 columns</p>\n",
       "</div>"
      ],
      "text/plain": [
       "                 #track_id                                       title  \\\n",
       "0       TRGGGPJ128F4270507                             Give Me My Baby   \n",
       "1       TRGGGTH128F93232C9                                 Inutilmente   \n",
       "2       TRGGGLD128F92E85A0                       Mugger's Day (Comedy)   \n",
       "3       TRGGGNL128F9326506                                    Ice Cube   \n",
       "4       TRGGGRV128F4275312                       Marine corps (marine)   \n",
       "...                    ...                                         ...   \n",
       "999984  TRFFFQJ12903CBABA3                               Get'cha Money   \n",
       "999985  TRFFFEA128F146A9B2  Travels In Nihilon (2001 Digital Remaster)   \n",
       "999986  TRFFFJW128F4263812                       Are We Still Married?   \n",
       "999987  TRFFFPI128F9308887                        The Hesitating Blues   \n",
       "999988  TRFFFGE128F426DBC0                        Give That Love To Me   \n",
       "\n",
       "         duration  \n",
       "0       226.61179  \n",
       "1       320.78322  \n",
       "2       128.80934  \n",
       "3       423.02649  \n",
       "4       102.92200  \n",
       "...           ...  \n",
       "999984  212.40118  \n",
       "999985  423.62730  \n",
       "999986  174.99383  \n",
       "999987  157.98812  \n",
       "999988  116.97587  \n",
       "\n",
       "[999989 rows x 3 columns]"
      ]
     },
     "execution_count": 18,
     "metadata": {},
     "output_type": "execute_result"
    }
   ],
   "source": [
    "tracks = full_data[[\"#track_id\",\"title\",\"duration\",\"artist_id\"]]"
   ]
  },
  {
   "cell_type": "code",
   "execution_count": 25,
   "id": "6137e9c1",
   "metadata": {},
   "outputs": [],
   "source": [
    "track_metadata_w_genre_image = pd.read_csv(\"track_metadata_with_genre_and_image.csv\")"
   ]
  },
  {
   "cell_type": "code",
   "execution_count": 26,
   "id": "993e3593",
   "metadata": {},
   "outputs": [
    {
     "data": {
      "text/plain": [
       "(18364, 10)"
      ]
     },
     "execution_count": 26,
     "metadata": {},
     "output_type": "execute_result"
    }
   ],
   "source": [
    "track_metadata_w_genre_image.shape"
   ]
  },
  {
   "cell_type": "code",
   "execution_count": 27,
   "id": "fe467814",
   "metadata": {},
   "outputs": [
    {
     "data": {
      "text/html": [
       "<div>\n",
       "<style scoped>\n",
       "    .dataframe tbody tr th:only-of-type {\n",
       "        vertical-align: middle;\n",
       "    }\n",
       "\n",
       "    .dataframe tbody tr th {\n",
       "        vertical-align: top;\n",
       "    }\n",
       "\n",
       "    .dataframe thead th {\n",
       "        text-align: right;\n",
       "    }\n",
       "</style>\n",
       "<table border=\"1\" class=\"dataframe\">\n",
       "  <thead>\n",
       "    <tr style=\"text-align: right;\">\n",
       "      <th></th>\n",
       "      <th>TrackID</th>\n",
       "      <th>Title</th>\n",
       "      <th>GenreData_Genre</th>\n",
       "      <th>Album</th>\n",
       "      <th>Artist_ID</th>\n",
       "      <th>Artist_MB_ID</th>\n",
       "      <th>Artist</th>\n",
       "      <th>Image_URL</th>\n",
       "      <th>ReleaseYear</th>\n",
       "      <th>PlaybackDuration</th>\n",
       "    </tr>\n",
       "  </thead>\n",
       "  <tbody>\n",
       "    <tr>\n",
       "      <th>0</th>\n",
       "      <td>TRAAAHZ128E0799171</td>\n",
       "      <td>The One And Only (Edited)</td>\n",
       "      <td>Rap</td>\n",
       "      <td>The Best Of Snoop Dogg</td>\n",
       "      <td>ARZ5H0P1187B98A1DD</td>\n",
       "      <td>f90e8b26-9e52-4669-a5c9-e28529c47894</td>\n",
       "      <td>Snoop Dogg</td>\n",
       "      <td>http://artwork-cdn.7static.com/static/img/slee...</td>\n",
       "      <td>0</td>\n",
       "      <td>230.42567</td>\n",
       "    </tr>\n",
       "    <tr>\n",
       "      <th>1</th>\n",
       "      <td>TRAABWH128F427ABE8</td>\n",
       "      <td>China Boy</td>\n",
       "      <td>Pop_Rock</td>\n",
       "      <td>Comme Un Manouche Sans Guitare</td>\n",
       "      <td>AR9FZZ71187FB4CE11</td>\n",
       "      <td>83ec24f9-6608-46a9-bc43-d2f3aa7cc518</td>\n",
       "      <td>Thomas Dutronc</td>\n",
       "      <td>http://artwork-cdn.7static.com/static/img/slee...</td>\n",
       "      <td>2007</td>\n",
       "      <td>171.15383</td>\n",
       "    </tr>\n",
       "    <tr>\n",
       "      <th>2</th>\n",
       "      <td>TRAACER128F4290F96</td>\n",
       "      <td>Setting Fire to Sleeping Giants</td>\n",
       "      <td>Pop_Rock</td>\n",
       "      <td>Miss Machine</td>\n",
       "      <td>ARMAC4T1187FB3FA4C</td>\n",
       "      <td>1bc41dff-5397-4c53-bb50-469d2c277197</td>\n",
       "      <td>The Dillinger Escape Plan</td>\n",
       "      <td>http://artwork-cdn.7static.com/static/img/slee...</td>\n",
       "      <td>2004</td>\n",
       "      <td>207.77751</td>\n",
       "    </tr>\n",
       "    <tr>\n",
       "      <th>3</th>\n",
       "      <td>TRAADCQ128F932EC14</td>\n",
       "      <td>The Beacon</td>\n",
       "      <td>Pop_Rock</td>\n",
       "      <td>Bomb In A Birdcage</td>\n",
       "      <td>AR4E4121187FB51F4E</td>\n",
       "      <td>ccd4426f-aef3-48e3-b04e-2e1de3d1f8d6</td>\n",
       "      <td>A Fine Frenzy</td>\n",
       "      <td>http://artwork-cdn.7static.com/static/img/slee...</td>\n",
       "      <td>2009</td>\n",
       "      <td>201.87383</td>\n",
       "    </tr>\n",
       "    <tr>\n",
       "      <th>4</th>\n",
       "      <td>TRAADMH128F9343E59</td>\n",
       "      <td>Glory Be</td>\n",
       "      <td>Blues</td>\n",
       "      <td>A Bothered Mind</td>\n",
       "      <td>AR7TTS41187B9B42D3</td>\n",
       "      <td>355eed00-6c40-4d33-940a-600b2597407a</td>\n",
       "      <td>R.L. Burnside</td>\n",
       "      <td>http://artwork-cdn.7static.com/static/img/slee...</td>\n",
       "      <td>2004</td>\n",
       "      <td>277.78567</td>\n",
       "    </tr>\n",
       "  </tbody>\n",
       "</table>\n",
       "</div>"
      ],
      "text/plain": [
       "              TrackID                            Title GenreData_Genre  \\\n",
       "0  TRAAAHZ128E0799171        The One And Only (Edited)             Rap   \n",
       "1  TRAABWH128F427ABE8                        China Boy        Pop_Rock   \n",
       "2  TRAACER128F4290F96  Setting Fire to Sleeping Giants        Pop_Rock   \n",
       "3  TRAADCQ128F932EC14                       The Beacon        Pop_Rock   \n",
       "4  TRAADMH128F9343E59                         Glory Be           Blues   \n",
       "\n",
       "                            Album           Artist_ID  \\\n",
       "0          The Best Of Snoop Dogg  ARZ5H0P1187B98A1DD   \n",
       "1  Comme Un Manouche Sans Guitare  AR9FZZ71187FB4CE11   \n",
       "2                    Miss Machine  ARMAC4T1187FB3FA4C   \n",
       "3              Bomb In A Birdcage  AR4E4121187FB51F4E   \n",
       "4                 A Bothered Mind  AR7TTS41187B9B42D3   \n",
       "\n",
       "                           Artist_MB_ID                     Artist  \\\n",
       "0  f90e8b26-9e52-4669-a5c9-e28529c47894                 Snoop Dogg   \n",
       "1  83ec24f9-6608-46a9-bc43-d2f3aa7cc518             Thomas Dutronc   \n",
       "2  1bc41dff-5397-4c53-bb50-469d2c277197  The Dillinger Escape Plan   \n",
       "3  ccd4426f-aef3-48e3-b04e-2e1de3d1f8d6              A Fine Frenzy   \n",
       "4  355eed00-6c40-4d33-940a-600b2597407a              R.L. Burnside   \n",
       "\n",
       "                                           Image_URL  ReleaseYear  \\\n",
       "0  http://artwork-cdn.7static.com/static/img/slee...            0   \n",
       "1  http://artwork-cdn.7static.com/static/img/slee...         2007   \n",
       "2  http://artwork-cdn.7static.com/static/img/slee...         2004   \n",
       "3  http://artwork-cdn.7static.com/static/img/slee...         2009   \n",
       "4  http://artwork-cdn.7static.com/static/img/slee...         2004   \n",
       "\n",
       "   PlaybackDuration  \n",
       "0         230.42567  \n",
       "1         171.15383  \n",
       "2         207.77751  \n",
       "3         201.87383  \n",
       "4         277.78567  "
      ]
     },
     "execution_count": 27,
     "metadata": {},
     "output_type": "execute_result"
    }
   ],
   "source": [
    "track_metadata_w_genre_image.head()"
   ]
  },
  {
   "cell_type": "code",
   "execution_count": 151,
   "id": "f87ca962",
   "metadata": {},
   "outputs": [],
   "source": [
    "filtered_tracks_track = track_metadata_w_genre_image[[\"TrackID\",\"Title\",\"PlaybackDuration\",\"Artist_ID\",\"GenreData_Genre\",\"Album\"]]"
   ]
  },
  {
   "cell_type": "code",
   "execution_count": 157,
   "id": "3cdd4f67",
   "metadata": {},
   "outputs": [
    {
     "data": {
      "text/plain": [
       "(18364, 6)"
      ]
     },
     "execution_count": 157,
     "metadata": {},
     "output_type": "execute_result"
    }
   ],
   "source": [
    "filtered_tracks_track.shape"
   ]
  },
  {
   "cell_type": "code",
   "execution_count": 153,
   "id": "fa5d4ae3",
   "metadata": {},
   "outputs": [],
   "source": [
    "filtered_tracks_track_with_genre_id = filtered_tracks_track.merge(filtered_tracks_genre_unique,right_on=\"GenreData_Genre\",left_on=\"GenreData_Genre\")"
   ]
  },
  {
   "cell_type": "code",
   "execution_count": 158,
   "id": "c69bc185",
   "metadata": {},
   "outputs": [
    {
     "data": {
      "text/plain": [
       "(18364, 7)"
      ]
     },
     "execution_count": 158,
     "metadata": {},
     "output_type": "execute_result"
    }
   ],
   "source": [
    "filtered_tracks_track_with_genre_id.shape"
   ]
  },
  {
   "cell_type": "code",
   "execution_count": 154,
   "id": "0e34e703",
   "metadata": {},
   "outputs": [],
   "source": [
    "filtered_tracks_track_with_genre_album_id = filtered_tracks_track_with_genre_id.merge(filtered_tracks_albums_unique,right_on=\"Album\",left_on=\"Album\")"
   ]
  },
  {
   "cell_type": "code",
   "execution_count": 159,
   "id": "4ddfa8b3",
   "metadata": {},
   "outputs": [
    {
     "data": {
      "text/plain": [
       "(24208, 10)"
      ]
     },
     "execution_count": 159,
     "metadata": {},
     "output_type": "execute_result"
    }
   ],
   "source": [
    "filtered_tracks_track_with_genre_album_id.shape"
   ]
  },
  {
   "cell_type": "code",
   "execution_count": 156,
   "id": "db8e9da9",
   "metadata": {},
   "outputs": [
    {
     "data": {
      "text/plain": [
       "(24208, 10)"
      ]
     },
     "execution_count": 156,
     "metadata": {},
     "output_type": "execute_result"
    }
   ],
   "source": [
    "filtered_tracks_track_with_genre_album_id.shape"
   ]
  },
  {
   "cell_type": "code",
   "execution_count": 167,
   "id": "9c3ce966",
   "metadata": {},
   "outputs": [],
   "source": [
    "f_filtered_tracks_track_with_genre_album_id = filtered_tracks_track_with_genre_album_id[[\"TrackID\",\"Title\",\"PlaybackDuration\",\"Artist_ID\",\"Genre_ID\",\"Album_ID\"]]"
   ]
  },
  {
   "cell_type": "code",
   "execution_count": 192,
   "id": "4b60f795",
   "metadata": {},
   "outputs": [
    {
     "data": {
      "text/plain": [
       "(24208, 6)"
      ]
     },
     "execution_count": 192,
     "metadata": {},
     "output_type": "execute_result"
    }
   ],
   "source": [
    "f_filtered_tracks_track_with_genre_album_id.shape"
   ]
  },
  {
   "cell_type": "code",
   "execution_count": 194,
   "id": "4615cbf6",
   "metadata": {},
   "outputs": [],
   "source": [
    "filtered_tracks_data_with_ids = f_filtered_tracks_track_with_genre_album_id.drop_duplicates(subset=[\"TrackID\",\"Artist_ID\",\"Genre_ID\"])"
   ]
  },
  {
   "cell_type": "code",
   "execution_count": 195,
   "id": "7a6cc255",
   "metadata": {},
   "outputs": [],
   "source": [
    "filtered_tracks_data_with_ids.to_csv(\"filtered_track_data_with_ids.csv\", index=0)"
   ]
  },
  {
   "cell_type": "code",
   "execution_count": 176,
   "id": "d68e8c41",
   "metadata": {},
   "outputs": [
    {
     "data": {
      "text/html": [
       "<div>\n",
       "<style scoped>\n",
       "    .dataframe tbody tr th:only-of-type {\n",
       "        vertical-align: middle;\n",
       "    }\n",
       "\n",
       "    .dataframe tbody tr th {\n",
       "        vertical-align: top;\n",
       "    }\n",
       "\n",
       "    .dataframe thead th {\n",
       "        text-align: right;\n",
       "    }\n",
       "</style>\n",
       "<table border=\"1\" class=\"dataframe\">\n",
       "  <thead>\n",
       "    <tr style=\"text-align: right;\">\n",
       "      <th></th>\n",
       "      <th>TrackID</th>\n",
       "      <th>Title</th>\n",
       "      <th>PlaybackDuration</th>\n",
       "      <th>Artist_ID</th>\n",
       "      <th>Genre_ID</th>\n",
       "      <th>Album_ID</th>\n",
       "    </tr>\n",
       "  </thead>\n",
       "  <tbody>\n",
       "    <tr>\n",
       "      <th>6</th>\n",
       "      <td>TRABCQH128F931525A</td>\n",
       "      <td>Intro</td>\n",
       "      <td>67.63057</td>\n",
       "      <td>ARAADXM1187FB3ECDB</td>\n",
       "      <td>GR8JIQ0MT3H66P6VJK</td>\n",
       "      <td>AL1DYYNQSWSHZHSAG3</td>\n",
       "    </tr>\n",
       "    <tr>\n",
       "      <th>7</th>\n",
       "      <td>TRABCQH128F931525A</td>\n",
       "      <td>Intro</td>\n",
       "      <td>67.63057</td>\n",
       "      <td>ARAADXM1187FB3ECDB</td>\n",
       "      <td>GR8JIQ0MT3H66P6VJK</td>\n",
       "      <td>ALVNSBZT6ORQRE2OM6</td>\n",
       "    </tr>\n",
       "  </tbody>\n",
       "</table>\n",
       "</div>"
      ],
      "text/plain": [
       "              TrackID  Title  PlaybackDuration           Artist_ID  \\\n",
       "6  TRABCQH128F931525A  Intro          67.63057  ARAADXM1187FB3ECDB   \n",
       "7  TRABCQH128F931525A  Intro          67.63057  ARAADXM1187FB3ECDB   \n",
       "\n",
       "             Genre_ID            Album_ID  \n",
       "6  GR8JIQ0MT3H66P6VJK  AL1DYYNQSWSHZHSAG3  \n",
       "7  GR8JIQ0MT3H66P6VJK  ALVNSBZT6ORQRE2OM6  "
      ]
     },
     "execution_count": 176,
     "metadata": {},
     "output_type": "execute_result"
    }
   ],
   "source": [
    "f_filtered_tracks_track_with_genre_album_id[f_filtered_tracks_track_with_genre_album_id[\"TrackID\"]==\"TRABCQH128F931525A\"]"
   ]
  },
  {
   "cell_type": "code",
   "execution_count": 184,
   "id": "fbfadf71",
   "metadata": {},
   "outputs": [
    {
     "data": {
      "text/html": [
       "<div>\n",
       "<style scoped>\n",
       "    .dataframe tbody tr th:only-of-type {\n",
       "        vertical-align: middle;\n",
       "    }\n",
       "\n",
       "    .dataframe tbody tr th {\n",
       "        vertical-align: top;\n",
       "    }\n",
       "\n",
       "    .dataframe thead th {\n",
       "        text-align: right;\n",
       "    }\n",
       "</style>\n",
       "<table border=\"1\" class=\"dataframe\">\n",
       "  <thead>\n",
       "    <tr style=\"text-align: right;\">\n",
       "      <th></th>\n",
       "      <th>Album_ID</th>\n",
       "      <th>Album</th>\n",
       "      <th>Image_URL</th>\n",
       "      <th>ReleaseYear</th>\n",
       "    </tr>\n",
       "  </thead>\n",
       "  <tbody>\n",
       "    <tr>\n",
       "      <th>41</th>\n",
       "      <td>AL1DYYNQSWSHZHSAG3</td>\n",
       "      <td>Megadef</td>\n",
       "      <td>http://artwork-cdn.7static.com/static/img/slee...</td>\n",
       "      <td>1999</td>\n",
       "    </tr>\n",
       "  </tbody>\n",
       "</table>\n",
       "</div>"
      ],
      "text/plain": [
       "              Album_ID    Album  \\\n",
       "41  AL1DYYNQSWSHZHSAG3  Megadef   \n",
       "\n",
       "                                            Image_URL  ReleaseYear  \n",
       "41  http://artwork-cdn.7static.com/static/img/slee...         1999  "
      ]
     },
     "execution_count": 184,
     "metadata": {},
     "output_type": "execute_result"
    }
   ],
   "source": [
    "filtered_tracks_albums_unique[filtered_tracks_albums_unique[\"Album_ID\"]==\"AL1DYYNQSWSHZHSAG3\"]"
   ]
  },
  {
   "cell_type": "code",
   "execution_count": 185,
   "id": "4bd3d95c",
   "metadata": {},
   "outputs": [
    {
     "data": {
      "text/html": [
       "<div>\n",
       "<style scoped>\n",
       "    .dataframe tbody tr th:only-of-type {\n",
       "        vertical-align: middle;\n",
       "    }\n",
       "\n",
       "    .dataframe tbody tr th {\n",
       "        vertical-align: top;\n",
       "    }\n",
       "\n",
       "    .dataframe thead th {\n",
       "        text-align: right;\n",
       "    }\n",
       "</style>\n",
       "<table border=\"1\" class=\"dataframe\">\n",
       "  <thead>\n",
       "    <tr style=\"text-align: right;\">\n",
       "      <th></th>\n",
       "      <th>Album_ID</th>\n",
       "      <th>Album</th>\n",
       "      <th>Image_URL</th>\n",
       "      <th>ReleaseYear</th>\n",
       "    </tr>\n",
       "  </thead>\n",
       "  <tbody>\n",
       "    <tr>\n",
       "      <th>6882</th>\n",
       "      <td>ALVNSBZT6ORQRE2OM6</td>\n",
       "      <td>Megadef</td>\n",
       "      <td>http://artwork-cdn.7static.com/static/img/slee...</td>\n",
       "      <td>2003</td>\n",
       "    </tr>\n",
       "  </tbody>\n",
       "</table>\n",
       "</div>"
      ],
      "text/plain": [
       "                Album_ID    Album  \\\n",
       "6882  ALVNSBZT6ORQRE2OM6  Megadef   \n",
       "\n",
       "                                              Image_URL  ReleaseYear  \n",
       "6882  http://artwork-cdn.7static.com/static/img/slee...         2003  "
      ]
     },
     "execution_count": 185,
     "metadata": {},
     "output_type": "execute_result"
    }
   ],
   "source": [
    "filtered_tracks_albums_unique[filtered_tracks_albums_unique[\"Album_ID\"]==\"ALVNSBZT6ORQRE2OM6\"]"
   ]
  },
  {
   "cell_type": "code",
   "execution_count": 28,
   "id": "5baec813",
   "metadata": {},
   "outputs": [],
   "source": [
    "filtered_tracks_artists = track_metadata_w_genre_image[[\"Artist_ID\",\"Artist_MB_ID\",\"Artist\"]]"
   ]
  },
  {
   "cell_type": "code",
   "execution_count": 57,
   "id": "987d56a7",
   "metadata": {},
   "outputs": [],
   "source": [
    "filtered_tracks_artists_unique = filtered_tracks_artists.drop_duplicates()"
   ]
  },
  {
   "cell_type": "code",
   "execution_count": 62,
   "id": "068aa665",
   "metadata": {},
   "outputs": [
    {
     "data": {
      "text/plain": [
       "(5685, 3)"
      ]
     },
     "execution_count": 62,
     "metadata": {},
     "output_type": "execute_result"
    }
   ],
   "source": [
    "filtered_tracks_artists_unique.shape"
   ]
  },
  {
   "cell_type": "code",
   "execution_count": 73,
   "id": "1e2c6129",
   "metadata": {},
   "outputs": [
    {
     "data": {
      "text/html": [
       "<div>\n",
       "<style scoped>\n",
       "    .dataframe tbody tr th:only-of-type {\n",
       "        vertical-align: middle;\n",
       "    }\n",
       "\n",
       "    .dataframe tbody tr th {\n",
       "        vertical-align: top;\n",
       "    }\n",
       "\n",
       "    .dataframe thead th {\n",
       "        text-align: right;\n",
       "    }\n",
       "</style>\n",
       "<table border=\"1\" class=\"dataframe\">\n",
       "  <thead>\n",
       "    <tr style=\"text-align: right;\">\n",
       "      <th></th>\n",
       "      <th>Artist_ID</th>\n",
       "      <th>Artist_MB_ID</th>\n",
       "      <th>Artist</th>\n",
       "    </tr>\n",
       "  </thead>\n",
       "  <tbody>\n",
       "    <tr>\n",
       "      <th>0</th>\n",
       "      <td>ARZ5H0P1187B98A1DD</td>\n",
       "      <td>f90e8b26-9e52-4669-a5c9-e28529c47894</td>\n",
       "      <td>Snoop Dogg</td>\n",
       "    </tr>\n",
       "    <tr>\n",
       "      <th>1</th>\n",
       "      <td>AR9FZZ71187FB4CE11</td>\n",
       "      <td>83ec24f9-6608-46a9-bc43-d2f3aa7cc518</td>\n",
       "      <td>Thomas Dutronc</td>\n",
       "    </tr>\n",
       "    <tr>\n",
       "      <th>2</th>\n",
       "      <td>ARMAC4T1187FB3FA4C</td>\n",
       "      <td>1bc41dff-5397-4c53-bb50-469d2c277197</td>\n",
       "      <td>The Dillinger Escape Plan</td>\n",
       "    </tr>\n",
       "    <tr>\n",
       "      <th>3</th>\n",
       "      <td>AR4E4121187FB51F4E</td>\n",
       "      <td>ccd4426f-aef3-48e3-b04e-2e1de3d1f8d6</td>\n",
       "      <td>A Fine Frenzy</td>\n",
       "    </tr>\n",
       "    <tr>\n",
       "      <th>4</th>\n",
       "      <td>AR7TTS41187B9B42D3</td>\n",
       "      <td>355eed00-6c40-4d33-940a-600b2597407a</td>\n",
       "      <td>R.L. Burnside</td>\n",
       "    </tr>\n",
       "  </tbody>\n",
       "</table>\n",
       "</div>"
      ],
      "text/plain": [
       "            Artist_ID                          Artist_MB_ID  \\\n",
       "0  ARZ5H0P1187B98A1DD  f90e8b26-9e52-4669-a5c9-e28529c47894   \n",
       "1  AR9FZZ71187FB4CE11  83ec24f9-6608-46a9-bc43-d2f3aa7cc518   \n",
       "2  ARMAC4T1187FB3FA4C  1bc41dff-5397-4c53-bb50-469d2c277197   \n",
       "3  AR4E4121187FB51F4E  ccd4426f-aef3-48e3-b04e-2e1de3d1f8d6   \n",
       "4  AR7TTS41187B9B42D3  355eed00-6c40-4d33-940a-600b2597407a   \n",
       "\n",
       "                      Artist  \n",
       "0                 Snoop Dogg  \n",
       "1             Thomas Dutronc  \n",
       "2  The Dillinger Escape Plan  \n",
       "3              A Fine Frenzy  \n",
       "4              R.L. Burnside  "
      ]
     },
     "execution_count": 73,
     "metadata": {},
     "output_type": "execute_result"
    }
   ],
   "source": [
    "filtered_tracks_artists_unique.head()"
   ]
  },
  {
   "cell_type": "code",
   "execution_count": 76,
   "id": "e7bf61d3",
   "metadata": {},
   "outputs": [
    {
     "data": {
      "text/plain": [
       "Artist_ID           Artist_MB_ID                          Artist                \n",
       "ARZZ5ZR1187FB4D149  e240d3d0-fda5-4e60-b746-a44b876cb4f6  Air                       1\n",
       "ARBSTD91187B99AD57  5b1f38d2-4a09-4708-a3c4-4e35ae05a24b  Black Devil Disco Club    1\n",
       "ARCEXLE1187FB3A93E  f81f19b9-c76e-43ac-8656-bb56071785fb  Marisa Monte              1\n",
       "ARCEZEA1187FB5A95F  61b8b58c-294a-479e-8641-d8206b99a494  Stefanie Heinzmann        1\n",
       "ARCF06I1187B995398  3dfb71a2-2e06-4a69-8839-3e1fc07e92ea  K-OS                      1\n",
       "                                                                                   ..\n",
       "AROIIF91187FB4F2D5  3b02795b-bd2c-4aac-8f6c-e581514cc2d8  Dead Prez                 1\n",
       "AROIL3N1187B9A9975  3dd5e428-5770-4cfe-bc65-5972f00fbfe1  BLEED THE SKY             1\n",
       "AROISZY1187B994373  0f43b78a-575b-4bd1-b538-840c474800aa  Vibronics                 1\n",
       "AROJ4RQ1187FB50102  b54cf2cb-16e5-4e17-844a-1f5c2e8ff6a6  Pinch                     1\n",
       "AR00B1I1187FB433EB  4a5777b3-f55b-437c-8b23-d9ee7791c7fc  Eagle-Eye Cherry          1\n",
       "Length: 5644, dtype: int64"
      ]
     },
     "execution_count": 76,
     "metadata": {},
     "output_type": "execute_result"
    }
   ],
   "source": [
    "filtered_tracks_artists_unique.value_counts()"
   ]
  },
  {
   "cell_type": "code",
   "execution_count": 186,
   "id": "5ff26a46",
   "metadata": {},
   "outputs": [],
   "source": [
    "filtered_tracks_albums = track_metadata_w_genre_image[[\"Album\",\"Image_URL\",\"ReleaseYear\"]]"
   ]
  },
  {
   "cell_type": "code",
   "execution_count": 187,
   "id": "83a1d9b0",
   "metadata": {},
   "outputs": [
    {
     "data": {
      "text/plain": [
       "(18364, 3)"
      ]
     },
     "execution_count": 187,
     "metadata": {},
     "output_type": "execute_result"
    }
   ],
   "source": [
    "filtered_tracks_albums.shape"
   ]
  },
  {
   "cell_type": "code",
   "execution_count": 188,
   "id": "5b112f3b",
   "metadata": {},
   "outputs": [],
   "source": [
    "filtered_tracks_albums_unique = filtered_tracks_albums.drop_duplicates(subset=\"Album\")"
   ]
  },
  {
   "cell_type": "code",
   "execution_count": 189,
   "id": "917eedc6",
   "metadata": {},
   "outputs": [
    {
     "data": {
      "text/plain": [
       "(8956, 3)"
      ]
     },
     "execution_count": 189,
     "metadata": {},
     "output_type": "execute_result"
    }
   ],
   "source": [
    "filtered_tracks_albums_unique.shape"
   ]
  },
  {
   "cell_type": "code",
   "execution_count": 77,
   "id": "d8f405b0",
   "metadata": {},
   "outputs": [
    {
     "data": {
      "text/html": [
       "<div>\n",
       "<style scoped>\n",
       "    .dataframe tbody tr th:only-of-type {\n",
       "        vertical-align: middle;\n",
       "    }\n",
       "\n",
       "    .dataframe tbody tr th {\n",
       "        vertical-align: top;\n",
       "    }\n",
       "\n",
       "    .dataframe thead th {\n",
       "        text-align: right;\n",
       "    }\n",
       "</style>\n",
       "<table border=\"1\" class=\"dataframe\">\n",
       "  <thead>\n",
       "    <tr style=\"text-align: right;\">\n",
       "      <th></th>\n",
       "      <th>Album</th>\n",
       "      <th>Image_URL</th>\n",
       "      <th>ReleaseYear</th>\n",
       "    </tr>\n",
       "  </thead>\n",
       "  <tbody>\n",
       "    <tr>\n",
       "      <th>0</th>\n",
       "      <td>The Best Of Snoop Dogg</td>\n",
       "      <td>http://artwork-cdn.7static.com/static/img/slee...</td>\n",
       "      <td>0</td>\n",
       "    </tr>\n",
       "    <tr>\n",
       "      <th>1</th>\n",
       "      <td>Comme Un Manouche Sans Guitare</td>\n",
       "      <td>http://artwork-cdn.7static.com/static/img/slee...</td>\n",
       "      <td>2007</td>\n",
       "    </tr>\n",
       "    <tr>\n",
       "      <th>2</th>\n",
       "      <td>Miss Machine</td>\n",
       "      <td>http://artwork-cdn.7static.com/static/img/slee...</td>\n",
       "      <td>2004</td>\n",
       "    </tr>\n",
       "    <tr>\n",
       "      <th>3</th>\n",
       "      <td>Bomb In A Birdcage</td>\n",
       "      <td>http://artwork-cdn.7static.com/static/img/slee...</td>\n",
       "      <td>2009</td>\n",
       "    </tr>\n",
       "    <tr>\n",
       "      <th>4</th>\n",
       "      <td>A Bothered Mind</td>\n",
       "      <td>http://artwork-cdn.7static.com/static/img/slee...</td>\n",
       "      <td>2004</td>\n",
       "    </tr>\n",
       "  </tbody>\n",
       "</table>\n",
       "</div>"
      ],
      "text/plain": [
       "                            Album  \\\n",
       "0          The Best Of Snoop Dogg   \n",
       "1  Comme Un Manouche Sans Guitare   \n",
       "2                    Miss Machine   \n",
       "3              Bomb In A Birdcage   \n",
       "4                 A Bothered Mind   \n",
       "\n",
       "                                           Image_URL  ReleaseYear  \n",
       "0  http://artwork-cdn.7static.com/static/img/slee...            0  \n",
       "1  http://artwork-cdn.7static.com/static/img/slee...         2007  \n",
       "2  http://artwork-cdn.7static.com/static/img/slee...         2004  \n",
       "3  http://artwork-cdn.7static.com/static/img/slee...         2009  \n",
       "4  http://artwork-cdn.7static.com/static/img/slee...         2004  "
      ]
     },
     "execution_count": 77,
     "metadata": {},
     "output_type": "execute_result"
    }
   ],
   "source": [
    "filtered_tracks_albums_unique.head()"
   ]
  },
  {
   "cell_type": "code",
   "execution_count": 78,
   "id": "3915f554",
   "metadata": {},
   "outputs": [
    {
     "data": {
      "text/plain": [
       "Album                     Image_URL                                                                          ReleaseYear\n",
       "xx                        http://artwork-cdn.7static.com/static/img/sleeveart/00/005/187/0000518733_200.jpg  2009           1\n",
       "Green Eyed Soul           http://artwork-cdn.7static.com/static/img/sleeveart/00/000/690/0000069088_200.jpg  2001           1\n",
       "Grapes From The Estate    http://artwork-cdn.7static.com/static/img/sleeveart/00/003/201/0000320176_200.jpg  2004           1\n",
       "Granite                   http://artwork-cdn.7static.com/static/img/sleeveart/00/001/860/0000186026_200.jpg  0              1\n",
       "Grandes exitos 1991-2004  http://artwork-cdn.7static.com/static/img/sleeveart/00/000/087/0000008735_200.jpg  0              1\n",
       "                                                                                                                           ..\n",
       "Rock N Roll               http://artwork-cdn.7static.com/static/img/sleeveart/00/000/477/0000047743_200.jpg  2003           1\n",
       "Rock Garden               http://artwork-cdn.7static.com/static/img/sleeveart/00/004/606/0000460675_200.jpg  2006           1\n",
       "Rock End Roll             http://artwork-cdn.7static.com/static/img/sleeveart/00/027/378/0002737883_200.jpg  2002           1\n",
       "                          http://artwork-cdn.7static.com/static/img/sleeveart/00/001/634/0000163470_200.jpg  2005           1\n",
       "#1                        http://artwork-cdn.7static.com/static/img/sleeveart/00/000/105/0000010597_200.jpg  2000           1\n",
       "Length: 10359, dtype: int64"
      ]
     },
     "execution_count": 78,
     "metadata": {},
     "output_type": "execute_result"
    }
   ],
   "source": [
    "filtered_tracks_albums_unique.value_counts()"
   ]
  },
  {
   "cell_type": "code",
   "execution_count": 126,
   "id": "1708b5f2",
   "metadata": {},
   "outputs": [],
   "source": [
    "filtered_tracks_genre = track_metadata_w_genre_image[[\"GenreData_Genre\"]]"
   ]
  },
  {
   "cell_type": "code",
   "execution_count": 127,
   "id": "0edc4acb",
   "metadata": {},
   "outputs": [
    {
     "data": {
      "text/plain": [
       "(18364, 1)"
      ]
     },
     "execution_count": 127,
     "metadata": {},
     "output_type": "execute_result"
    }
   ],
   "source": [
    "filtered_tracks_genre.shape"
   ]
  },
  {
   "cell_type": "code",
   "execution_count": 128,
   "id": "29350451",
   "metadata": {},
   "outputs": [],
   "source": [
    "filtered_tracks_genre_unique = filtered_tracks_genre.drop_duplicates()"
   ]
  },
  {
   "cell_type": "code",
   "execution_count": 129,
   "id": "f0bccbf7",
   "metadata": {},
   "outputs": [
    {
     "data": {
      "text/plain": [
       "(21, 1)"
      ]
     },
     "execution_count": 129,
     "metadata": {},
     "output_type": "execute_result"
    }
   ],
   "source": [
    "filtered_tracks_genre_unique.shape"
   ]
  },
  {
   "cell_type": "code",
   "execution_count": 130,
   "id": "94c116fb",
   "metadata": {},
   "outputs": [
    {
     "data": {
      "text/plain": [
       "<bound method NDFrame.head of      GenreData_Genre\n",
       "0                Rap\n",
       "1           Pop_Rock\n",
       "4              Blues\n",
       "5               Jazz\n",
       "7             Reggae\n",
       "9           Children\n",
       "11           Country\n",
       "13     International\n",
       "14        Electronic\n",
       "19           New Age\n",
       "38              Folk\n",
       "45               RnB\n",
       "71             Latin\n",
       "140      Avant_Garde\n",
       "225            Vocal\n",
       "259           Stage \n",
       "319        Religious\n",
       "321        Classical\n",
       "1180  Easy_Listening\n",
       "1330   Comedy_Spoken\n",
       "9502         Holiday>"
      ]
     },
     "execution_count": 130,
     "metadata": {},
     "output_type": "execute_result"
    }
   ],
   "source": [
    "filtered_tracks_genre_unique.head"
   ]
  },
  {
   "cell_type": "code",
   "execution_count": 131,
   "id": "1a484d2b",
   "metadata": {},
   "outputs": [
    {
     "data": {
      "text/plain": [
       "GenreData_Genre\n",
       "Vocal              1\n",
       "Holiday            1\n",
       "Blues              1\n",
       "Children           1\n",
       "Classical          1\n",
       "Comedy_Spoken      1\n",
       "Country            1\n",
       "Easy_Listening     1\n",
       "Electronic         1\n",
       "Folk               1\n",
       "International      1\n",
       "Stage              1\n",
       "Jazz               1\n",
       "Latin              1\n",
       "New Age            1\n",
       "Pop_Rock           1\n",
       "Rap                1\n",
       "Reggae             1\n",
       "Religious          1\n",
       "RnB                1\n",
       "Avant_Garde        1\n",
       "dtype: int64"
      ]
     },
     "execution_count": 131,
     "metadata": {},
     "output_type": "execute_result"
    }
   ],
   "source": [
    "filtered_tracks_genre_unique.value_counts()"
   ]
  },
  {
   "cell_type": "code",
   "execution_count": 132,
   "id": "828a3ffa",
   "metadata": {},
   "outputs": [],
   "source": [
    "import random\n",
    "import string\n",
    "\n",
    "def generate_alphanumeric_id_string(PREFIX=\"GR\",LIMIT=16):\n",
    "    return \"{}{}\".format(PREFIX,\"\".join(random.choice(string.ascii_uppercase + string.digits) for _ in range(LIMIT)))"
   ]
  },
  {
   "cell_type": "code",
   "execution_count": 133,
   "id": "64af5135",
   "metadata": {},
   "outputs": [
    {
     "name": "stderr",
     "output_type": "stream",
     "text": [
      "/home/ec2-user/anaconda3/envs/amazonei_tensorflow2_p36/lib/python3.6/site-packages/ipykernel/__main__.py:2: SettingWithCopyWarning: \n",
      "A value is trying to be set on a copy of a slice from a DataFrame.\n",
      "Try using .loc[row_indexer,col_indexer] = value instead\n",
      "\n",
      "See the caveats in the documentation: https://pandas.pydata.org/pandas-docs/stable/user_guide/indexing.html#returning-a-view-versus-a-copy\n",
      "  from ipykernel import kernelapp as app\n"
     ]
    }
   ],
   "source": [
    "ids = [generate_alphanumeric_id_string(\"GR\",16) for x in range(filtered_tracks_genre_unique.shape[0])]\n",
    "filtered_tracks_genre_unique[\"Genre_ID\"] = ids"
   ]
  },
  {
   "cell_type": "code",
   "execution_count": 134,
   "id": "a56a3b02",
   "metadata": {},
   "outputs": [
    {
     "data": {
      "text/html": [
       "<div>\n",
       "<style scoped>\n",
       "    .dataframe tbody tr th:only-of-type {\n",
       "        vertical-align: middle;\n",
       "    }\n",
       "\n",
       "    .dataframe tbody tr th {\n",
       "        vertical-align: top;\n",
       "    }\n",
       "\n",
       "    .dataframe thead th {\n",
       "        text-align: right;\n",
       "    }\n",
       "</style>\n",
       "<table border=\"1\" class=\"dataframe\">\n",
       "  <thead>\n",
       "    <tr style=\"text-align: right;\">\n",
       "      <th></th>\n",
       "      <th>GenreData_Genre</th>\n",
       "      <th>Genre_ID</th>\n",
       "    </tr>\n",
       "  </thead>\n",
       "  <tbody>\n",
       "    <tr>\n",
       "      <th>0</th>\n",
       "      <td>Rap</td>\n",
       "      <td>GR8JIQ0MT3H66P6VJK</td>\n",
       "    </tr>\n",
       "    <tr>\n",
       "      <th>1</th>\n",
       "      <td>Pop_Rock</td>\n",
       "      <td>GR7RWUBIXEKKRALCRM</td>\n",
       "    </tr>\n",
       "    <tr>\n",
       "      <th>4</th>\n",
       "      <td>Blues</td>\n",
       "      <td>GRYALXG62QVQWQDATD</td>\n",
       "    </tr>\n",
       "    <tr>\n",
       "      <th>5</th>\n",
       "      <td>Jazz</td>\n",
       "      <td>GR717HV903KVD6SXXL</td>\n",
       "    </tr>\n",
       "    <tr>\n",
       "      <th>7</th>\n",
       "      <td>Reggae</td>\n",
       "      <td>GR49J2JMEOZNU9SG79</td>\n",
       "    </tr>\n",
       "    <tr>\n",
       "      <th>9</th>\n",
       "      <td>Children</td>\n",
       "      <td>GR8350BKPK92379Z98</td>\n",
       "    </tr>\n",
       "    <tr>\n",
       "      <th>11</th>\n",
       "      <td>Country</td>\n",
       "      <td>GROJZQKYKO129C66FS</td>\n",
       "    </tr>\n",
       "    <tr>\n",
       "      <th>13</th>\n",
       "      <td>International</td>\n",
       "      <td>GR0SY9AUSV0CLN1H0F</td>\n",
       "    </tr>\n",
       "    <tr>\n",
       "      <th>14</th>\n",
       "      <td>Electronic</td>\n",
       "      <td>GRWTN6SP41VUYFWK15</td>\n",
       "    </tr>\n",
       "    <tr>\n",
       "      <th>19</th>\n",
       "      <td>New Age</td>\n",
       "      <td>GRPYZBLK3ZMAGAWYY9</td>\n",
       "    </tr>\n",
       "    <tr>\n",
       "      <th>38</th>\n",
       "      <td>Folk</td>\n",
       "      <td>GR7VCCNM2KMXKVQGGX</td>\n",
       "    </tr>\n",
       "    <tr>\n",
       "      <th>45</th>\n",
       "      <td>RnB</td>\n",
       "      <td>GRV6EIQOAXN8F529SX</td>\n",
       "    </tr>\n",
       "    <tr>\n",
       "      <th>71</th>\n",
       "      <td>Latin</td>\n",
       "      <td>GRXOAUJYPNQXZIIQRK</td>\n",
       "    </tr>\n",
       "    <tr>\n",
       "      <th>140</th>\n",
       "      <td>Avant_Garde</td>\n",
       "      <td>GRDPNZ1F3ATZQFB1SC</td>\n",
       "    </tr>\n",
       "    <tr>\n",
       "      <th>225</th>\n",
       "      <td>Vocal</td>\n",
       "      <td>GRW0IPIF3Z4XWXVOT6</td>\n",
       "    </tr>\n",
       "    <tr>\n",
       "      <th>259</th>\n",
       "      <td>Stage</td>\n",
       "      <td>GR7EHEGE4QZAAUU27H</td>\n",
       "    </tr>\n",
       "    <tr>\n",
       "      <th>319</th>\n",
       "      <td>Religious</td>\n",
       "      <td>GRYJR5VEHQJUB2DDRO</td>\n",
       "    </tr>\n",
       "    <tr>\n",
       "      <th>321</th>\n",
       "      <td>Classical</td>\n",
       "      <td>GRZNXZXLAZ706F8HZU</td>\n",
       "    </tr>\n",
       "    <tr>\n",
       "      <th>1180</th>\n",
       "      <td>Easy_Listening</td>\n",
       "      <td>GRV4RXYPGGCHE6Y5WK</td>\n",
       "    </tr>\n",
       "    <tr>\n",
       "      <th>1330</th>\n",
       "      <td>Comedy_Spoken</td>\n",
       "      <td>GR4T0PVEEBY70EX73M</td>\n",
       "    </tr>\n",
       "    <tr>\n",
       "      <th>9502</th>\n",
       "      <td>Holiday</td>\n",
       "      <td>GRPKDIXZGVOT00TC0L</td>\n",
       "    </tr>\n",
       "  </tbody>\n",
       "</table>\n",
       "</div>"
      ],
      "text/plain": [
       "     GenreData_Genre            Genre_ID\n",
       "0                Rap  GR8JIQ0MT3H66P6VJK\n",
       "1           Pop_Rock  GR7RWUBIXEKKRALCRM\n",
       "4              Blues  GRYALXG62QVQWQDATD\n",
       "5               Jazz  GR717HV903KVD6SXXL\n",
       "7             Reggae  GR49J2JMEOZNU9SG79\n",
       "9           Children  GR8350BKPK92379Z98\n",
       "11           Country  GROJZQKYKO129C66FS\n",
       "13     International  GR0SY9AUSV0CLN1H0F\n",
       "14        Electronic  GRWTN6SP41VUYFWK15\n",
       "19           New Age  GRPYZBLK3ZMAGAWYY9\n",
       "38              Folk  GR7VCCNM2KMXKVQGGX\n",
       "45               RnB  GRV6EIQOAXN8F529SX\n",
       "71             Latin  GRXOAUJYPNQXZIIQRK\n",
       "140      Avant_Garde  GRDPNZ1F3ATZQFB1SC\n",
       "225            Vocal  GRW0IPIF3Z4XWXVOT6\n",
       "259           Stage   GR7EHEGE4QZAAUU27H\n",
       "319        Religious  GRYJR5VEHQJUB2DDRO\n",
       "321        Classical  GRZNXZXLAZ706F8HZU\n",
       "1180  Easy_Listening  GRV4RXYPGGCHE6Y5WK\n",
       "1330   Comedy_Spoken  GR4T0PVEEBY70EX73M\n",
       "9502         Holiday  GRPKDIXZGVOT00TC0L"
      ]
     },
     "execution_count": 134,
     "metadata": {},
     "output_type": "execute_result"
    }
   ],
   "source": [
    "filtered_tracks_genre_unique"
   ]
  },
  {
   "cell_type": "code",
   "execution_count": 136,
   "id": "3159d4cf",
   "metadata": {},
   "outputs": [
    {
     "name": "stderr",
     "output_type": "stream",
     "text": [
      "/home/ec2-user/anaconda3/envs/amazonei_tensorflow2_p36/lib/python3.6/site-packages/ipykernel/__main__.py:2: SettingWithCopyWarning: \n",
      "A value is trying to be set on a copy of a slice from a DataFrame.\n",
      "Try using .loc[row_indexer,col_indexer] = value instead\n",
      "\n",
      "See the caveats in the documentation: https://pandas.pydata.org/pandas-docs/stable/user_guide/indexing.html#returning-a-view-versus-a-copy\n",
      "  from ipykernel import kernelapp as app\n"
     ]
    }
   ],
   "source": [
    "ids = [generate_alphanumeric_id_string(\"AL\",16) for x in range(filtered_tracks_albums_unique.shape[0])]\n",
    "filtered_tracks_albums_unique[\"Album_ID\"] = ids"
   ]
  },
  {
   "cell_type": "code",
   "execution_count": 138,
   "id": "c70d4863",
   "metadata": {},
   "outputs": [],
   "source": [
    "filtered_tracks_albums_unique = filtered_tracks_albums_unique[[\"Album_ID\",\"Album\",\"Image_URL\",\"ReleaseYear\"]]"
   ]
  },
  {
   "cell_type": "code",
   "execution_count": 139,
   "id": "e0925fa1",
   "metadata": {},
   "outputs": [],
   "source": [
    "filtered_tracks_genre_unique = filtered_tracks_genre_unique[[\"Genre_ID\",\"GenreData_Genre\"]]"
   ]
  },
  {
   "cell_type": "code",
   "execution_count": 140,
   "id": "b6dc3a7a",
   "metadata": {},
   "outputs": [
    {
     "data": {
      "text/html": [
       "<div>\n",
       "<style scoped>\n",
       "    .dataframe tbody tr th:only-of-type {\n",
       "        vertical-align: middle;\n",
       "    }\n",
       "\n",
       "    .dataframe tbody tr th {\n",
       "        vertical-align: top;\n",
       "    }\n",
       "\n",
       "    .dataframe thead th {\n",
       "        text-align: right;\n",
       "    }\n",
       "</style>\n",
       "<table border=\"1\" class=\"dataframe\">\n",
       "  <thead>\n",
       "    <tr style=\"text-align: right;\">\n",
       "      <th></th>\n",
       "      <th>Album_ID</th>\n",
       "      <th>Album</th>\n",
       "      <th>Image_URL</th>\n",
       "      <th>ReleaseYear</th>\n",
       "    </tr>\n",
       "  </thead>\n",
       "  <tbody>\n",
       "    <tr>\n",
       "      <th>0</th>\n",
       "      <td>ALB1VBFIN3OQ45PAV4</td>\n",
       "      <td>The Best Of Snoop Dogg</td>\n",
       "      <td>http://artwork-cdn.7static.com/static/img/slee...</td>\n",
       "      <td>0</td>\n",
       "    </tr>\n",
       "    <tr>\n",
       "      <th>1</th>\n",
       "      <td>ALND2KYJH1RMIIEB2J</td>\n",
       "      <td>Comme Un Manouche Sans Guitare</td>\n",
       "      <td>http://artwork-cdn.7static.com/static/img/slee...</td>\n",
       "      <td>2007</td>\n",
       "    </tr>\n",
       "    <tr>\n",
       "      <th>2</th>\n",
       "      <td>ALN42SYV1985SRSMUQ</td>\n",
       "      <td>Miss Machine</td>\n",
       "      <td>http://artwork-cdn.7static.com/static/img/slee...</td>\n",
       "      <td>2004</td>\n",
       "    </tr>\n",
       "    <tr>\n",
       "      <th>3</th>\n",
       "      <td>AL0YLRKDBAKCPKVJJY</td>\n",
       "      <td>Bomb In A Birdcage</td>\n",
       "      <td>http://artwork-cdn.7static.com/static/img/slee...</td>\n",
       "      <td>2009</td>\n",
       "    </tr>\n",
       "    <tr>\n",
       "      <th>4</th>\n",
       "      <td>ALTHPNQ0FGWTKERBXW</td>\n",
       "      <td>A Bothered Mind</td>\n",
       "      <td>http://artwork-cdn.7static.com/static/img/slee...</td>\n",
       "      <td>2004</td>\n",
       "    </tr>\n",
       "    <tr>\n",
       "      <th>...</th>\n",
       "      <td>...</td>\n",
       "      <td>...</td>\n",
       "      <td>...</td>\n",
       "      <td>...</td>\n",
       "    </tr>\n",
       "    <tr>\n",
       "      <th>18357</th>\n",
       "      <td>ALYXNU864NBOT83EPP</td>\n",
       "      <td>A Curious Thing</td>\n",
       "      <td>http://artwork-cdn.7static.com/static/img/slee...</td>\n",
       "      <td>2010</td>\n",
       "    </tr>\n",
       "    <tr>\n",
       "      <th>18359</th>\n",
       "      <td>AL79HXE9FPPOF6R56G</td>\n",
       "      <td>Au Nom De La Lune</td>\n",
       "      <td>http://artwork-cdn.7static.com/static/img/slee...</td>\n",
       "      <td>1997</td>\n",
       "    </tr>\n",
       "    <tr>\n",
       "      <th>18360</th>\n",
       "      <td>AL1TUUUQGFDXBG2EFP</td>\n",
       "      <td>Best Of Pulsedriver</td>\n",
       "      <td>http://artwork-cdn.7static.com/static/img/slee...</td>\n",
       "      <td>2000</td>\n",
       "    </tr>\n",
       "    <tr>\n",
       "      <th>18362</th>\n",
       "      <td>ALNQW4Q8RX2Q5WQ9SS</td>\n",
       "      <td>New Hope For The Wretched</td>\n",
       "      <td>http://artwork-cdn.7static.com/static/img/slee...</td>\n",
       "      <td>1981</td>\n",
       "    </tr>\n",
       "    <tr>\n",
       "      <th>18363</th>\n",
       "      <td>AL0TAY6LDRC15WLZGJ</td>\n",
       "      <td>Gentle Rain</td>\n",
       "      <td>http://artwork-cdn.7static.com/static/img/slee...</td>\n",
       "      <td>2006</td>\n",
       "    </tr>\n",
       "  </tbody>\n",
       "</table>\n",
       "<p>10359 rows × 4 columns</p>\n",
       "</div>"
      ],
      "text/plain": [
       "                 Album_ID                           Album  \\\n",
       "0      ALB1VBFIN3OQ45PAV4          The Best Of Snoop Dogg   \n",
       "1      ALND2KYJH1RMIIEB2J  Comme Un Manouche Sans Guitare   \n",
       "2      ALN42SYV1985SRSMUQ                    Miss Machine   \n",
       "3      AL0YLRKDBAKCPKVJJY              Bomb In A Birdcage   \n",
       "4      ALTHPNQ0FGWTKERBXW                 A Bothered Mind   \n",
       "...                   ...                             ...   \n",
       "18357  ALYXNU864NBOT83EPP                 A Curious Thing   \n",
       "18359  AL79HXE9FPPOF6R56G               Au Nom De La Lune   \n",
       "18360  AL1TUUUQGFDXBG2EFP             Best Of Pulsedriver   \n",
       "18362  ALNQW4Q8RX2Q5WQ9SS       New Hope For The Wretched   \n",
       "18363  AL0TAY6LDRC15WLZGJ                     Gentle Rain   \n",
       "\n",
       "                                               Image_URL  ReleaseYear  \n",
       "0      http://artwork-cdn.7static.com/static/img/slee...            0  \n",
       "1      http://artwork-cdn.7static.com/static/img/slee...         2007  \n",
       "2      http://artwork-cdn.7static.com/static/img/slee...         2004  \n",
       "3      http://artwork-cdn.7static.com/static/img/slee...         2009  \n",
       "4      http://artwork-cdn.7static.com/static/img/slee...         2004  \n",
       "...                                                  ...          ...  \n",
       "18357  http://artwork-cdn.7static.com/static/img/slee...         2010  \n",
       "18359  http://artwork-cdn.7static.com/static/img/slee...         1997  \n",
       "18360  http://artwork-cdn.7static.com/static/img/slee...         2000  \n",
       "18362  http://artwork-cdn.7static.com/static/img/slee...         1981  \n",
       "18363  http://artwork-cdn.7static.com/static/img/slee...         2006  \n",
       "\n",
       "[10359 rows x 4 columns]"
      ]
     },
     "execution_count": 140,
     "metadata": {},
     "output_type": "execute_result"
    }
   ],
   "source": [
    "filtered_tracks_albums_unique"
   ]
  },
  {
   "cell_type": "code",
   "execution_count": 141,
   "id": "545d6d10",
   "metadata": {},
   "outputs": [
    {
     "data": {
      "text/html": [
       "<div>\n",
       "<style scoped>\n",
       "    .dataframe tbody tr th:only-of-type {\n",
       "        vertical-align: middle;\n",
       "    }\n",
       "\n",
       "    .dataframe tbody tr th {\n",
       "        vertical-align: top;\n",
       "    }\n",
       "\n",
       "    .dataframe thead th {\n",
       "        text-align: right;\n",
       "    }\n",
       "</style>\n",
       "<table border=\"1\" class=\"dataframe\">\n",
       "  <thead>\n",
       "    <tr style=\"text-align: right;\">\n",
       "      <th></th>\n",
       "      <th>Genre_ID</th>\n",
       "      <th>GenreData_Genre</th>\n",
       "    </tr>\n",
       "  </thead>\n",
       "  <tbody>\n",
       "    <tr>\n",
       "      <th>0</th>\n",
       "      <td>GR8JIQ0MT3H66P6VJK</td>\n",
       "      <td>Rap</td>\n",
       "    </tr>\n",
       "    <tr>\n",
       "      <th>1</th>\n",
       "      <td>GR7RWUBIXEKKRALCRM</td>\n",
       "      <td>Pop_Rock</td>\n",
       "    </tr>\n",
       "    <tr>\n",
       "      <th>4</th>\n",
       "      <td>GRYALXG62QVQWQDATD</td>\n",
       "      <td>Blues</td>\n",
       "    </tr>\n",
       "    <tr>\n",
       "      <th>5</th>\n",
       "      <td>GR717HV903KVD6SXXL</td>\n",
       "      <td>Jazz</td>\n",
       "    </tr>\n",
       "    <tr>\n",
       "      <th>7</th>\n",
       "      <td>GR49J2JMEOZNU9SG79</td>\n",
       "      <td>Reggae</td>\n",
       "    </tr>\n",
       "    <tr>\n",
       "      <th>9</th>\n",
       "      <td>GR8350BKPK92379Z98</td>\n",
       "      <td>Children</td>\n",
       "    </tr>\n",
       "    <tr>\n",
       "      <th>11</th>\n",
       "      <td>GROJZQKYKO129C66FS</td>\n",
       "      <td>Country</td>\n",
       "    </tr>\n",
       "    <tr>\n",
       "      <th>13</th>\n",
       "      <td>GR0SY9AUSV0CLN1H0F</td>\n",
       "      <td>International</td>\n",
       "    </tr>\n",
       "    <tr>\n",
       "      <th>14</th>\n",
       "      <td>GRWTN6SP41VUYFWK15</td>\n",
       "      <td>Electronic</td>\n",
       "    </tr>\n",
       "    <tr>\n",
       "      <th>19</th>\n",
       "      <td>GRPYZBLK3ZMAGAWYY9</td>\n",
       "      <td>New Age</td>\n",
       "    </tr>\n",
       "    <tr>\n",
       "      <th>38</th>\n",
       "      <td>GR7VCCNM2KMXKVQGGX</td>\n",
       "      <td>Folk</td>\n",
       "    </tr>\n",
       "    <tr>\n",
       "      <th>45</th>\n",
       "      <td>GRV6EIQOAXN8F529SX</td>\n",
       "      <td>RnB</td>\n",
       "    </tr>\n",
       "    <tr>\n",
       "      <th>71</th>\n",
       "      <td>GRXOAUJYPNQXZIIQRK</td>\n",
       "      <td>Latin</td>\n",
       "    </tr>\n",
       "    <tr>\n",
       "      <th>140</th>\n",
       "      <td>GRDPNZ1F3ATZQFB1SC</td>\n",
       "      <td>Avant_Garde</td>\n",
       "    </tr>\n",
       "    <tr>\n",
       "      <th>225</th>\n",
       "      <td>GRW0IPIF3Z4XWXVOT6</td>\n",
       "      <td>Vocal</td>\n",
       "    </tr>\n",
       "    <tr>\n",
       "      <th>259</th>\n",
       "      <td>GR7EHEGE4QZAAUU27H</td>\n",
       "      <td>Stage</td>\n",
       "    </tr>\n",
       "    <tr>\n",
       "      <th>319</th>\n",
       "      <td>GRYJR5VEHQJUB2DDRO</td>\n",
       "      <td>Religious</td>\n",
       "    </tr>\n",
       "    <tr>\n",
       "      <th>321</th>\n",
       "      <td>GRZNXZXLAZ706F8HZU</td>\n",
       "      <td>Classical</td>\n",
       "    </tr>\n",
       "    <tr>\n",
       "      <th>1180</th>\n",
       "      <td>GRV4RXYPGGCHE6Y5WK</td>\n",
       "      <td>Easy_Listening</td>\n",
       "    </tr>\n",
       "    <tr>\n",
       "      <th>1330</th>\n",
       "      <td>GR4T0PVEEBY70EX73M</td>\n",
       "      <td>Comedy_Spoken</td>\n",
       "    </tr>\n",
       "    <tr>\n",
       "      <th>9502</th>\n",
       "      <td>GRPKDIXZGVOT00TC0L</td>\n",
       "      <td>Holiday</td>\n",
       "    </tr>\n",
       "  </tbody>\n",
       "</table>\n",
       "</div>"
      ],
      "text/plain": [
       "                Genre_ID GenreData_Genre\n",
       "0     GR8JIQ0MT3H66P6VJK             Rap\n",
       "1     GR7RWUBIXEKKRALCRM        Pop_Rock\n",
       "4     GRYALXG62QVQWQDATD           Blues\n",
       "5     GR717HV903KVD6SXXL            Jazz\n",
       "7     GR49J2JMEOZNU9SG79          Reggae\n",
       "9     GR8350BKPK92379Z98        Children\n",
       "11    GROJZQKYKO129C66FS         Country\n",
       "13    GR0SY9AUSV0CLN1H0F   International\n",
       "14    GRWTN6SP41VUYFWK15      Electronic\n",
       "19    GRPYZBLK3ZMAGAWYY9         New Age\n",
       "38    GR7VCCNM2KMXKVQGGX            Folk\n",
       "45    GRV6EIQOAXN8F529SX             RnB\n",
       "71    GRXOAUJYPNQXZIIQRK           Latin\n",
       "140   GRDPNZ1F3ATZQFB1SC     Avant_Garde\n",
       "225   GRW0IPIF3Z4XWXVOT6           Vocal\n",
       "259   GR7EHEGE4QZAAUU27H          Stage \n",
       "319   GRYJR5VEHQJUB2DDRO       Religious\n",
       "321   GRZNXZXLAZ706F8HZU       Classical\n",
       "1180  GRV4RXYPGGCHE6Y5WK  Easy_Listening\n",
       "1330  GR4T0PVEEBY70EX73M   Comedy_Spoken\n",
       "9502  GRPKDIXZGVOT00TC0L         Holiday"
      ]
     },
     "execution_count": 141,
     "metadata": {},
     "output_type": "execute_result"
    }
   ],
   "source": [
    "filtered_tracks_genre_unique"
   ]
  },
  {
   "cell_type": "code",
   "execution_count": 142,
   "id": "9b5a44b1",
   "metadata": {},
   "outputs": [
    {
     "data": {
      "text/html": [
       "<div>\n",
       "<style scoped>\n",
       "    .dataframe tbody tr th:only-of-type {\n",
       "        vertical-align: middle;\n",
       "    }\n",
       "\n",
       "    .dataframe tbody tr th {\n",
       "        vertical-align: top;\n",
       "    }\n",
       "\n",
       "    .dataframe thead th {\n",
       "        text-align: right;\n",
       "    }\n",
       "</style>\n",
       "<table border=\"1\" class=\"dataframe\">\n",
       "  <thead>\n",
       "    <tr style=\"text-align: right;\">\n",
       "      <th></th>\n",
       "      <th>Artist_ID</th>\n",
       "      <th>Artist_MB_ID</th>\n",
       "      <th>Artist</th>\n",
       "    </tr>\n",
       "  </thead>\n",
       "  <tbody>\n",
       "    <tr>\n",
       "      <th>0</th>\n",
       "      <td>ARZ5H0P1187B98A1DD</td>\n",
       "      <td>f90e8b26-9e52-4669-a5c9-e28529c47894</td>\n",
       "      <td>Snoop Dogg</td>\n",
       "    </tr>\n",
       "    <tr>\n",
       "      <th>1</th>\n",
       "      <td>AR9FZZ71187FB4CE11</td>\n",
       "      <td>83ec24f9-6608-46a9-bc43-d2f3aa7cc518</td>\n",
       "      <td>Thomas Dutronc</td>\n",
       "    </tr>\n",
       "    <tr>\n",
       "      <th>2</th>\n",
       "      <td>ARMAC4T1187FB3FA4C</td>\n",
       "      <td>1bc41dff-5397-4c53-bb50-469d2c277197</td>\n",
       "      <td>The Dillinger Escape Plan</td>\n",
       "    </tr>\n",
       "    <tr>\n",
       "      <th>3</th>\n",
       "      <td>AR4E4121187FB51F4E</td>\n",
       "      <td>ccd4426f-aef3-48e3-b04e-2e1de3d1f8d6</td>\n",
       "      <td>A Fine Frenzy</td>\n",
       "    </tr>\n",
       "    <tr>\n",
       "      <th>4</th>\n",
       "      <td>AR7TTS41187B9B42D3</td>\n",
       "      <td>355eed00-6c40-4d33-940a-600b2597407a</td>\n",
       "      <td>R.L. Burnside</td>\n",
       "    </tr>\n",
       "    <tr>\n",
       "      <th>...</th>\n",
       "      <td>...</td>\n",
       "      <td>...</td>\n",
       "      <td>...</td>\n",
       "    </tr>\n",
       "    <tr>\n",
       "      <th>18336</th>\n",
       "      <td>AROUKFV1187FB3CF2B</td>\n",
       "      <td>51777bfe-9001-4e75-96f4-83e60796146d</td>\n",
       "      <td>Sound Team</td>\n",
       "    </tr>\n",
       "    <tr>\n",
       "      <th>18341</th>\n",
       "      <td>ARCR7611187FB4E908</td>\n",
       "      <td>b0ca0d85-24a8-4a00-860d-357ff688b69c</td>\n",
       "      <td>Bootsy Collins</td>\n",
       "    </tr>\n",
       "    <tr>\n",
       "      <th>18346</th>\n",
       "      <td>ARWCUWR1187FB470C3</td>\n",
       "      <td>e7f63397-83ae-4506-b015-4b604ac38b01</td>\n",
       "      <td>Alex Bueno</td>\n",
       "    </tr>\n",
       "    <tr>\n",
       "      <th>18359</th>\n",
       "      <td>ARL2Q8V1187FB4920C</td>\n",
       "      <td>c2543756-c98c-452e-b536-60f2ca877046</td>\n",
       "      <td>Anggun</td>\n",
       "    </tr>\n",
       "    <tr>\n",
       "      <th>18360</th>\n",
       "      <td>AR50X381187B9A7374</td>\n",
       "      <td>0c7eedb5-42e4-4002-9456-2da98f5790f1</td>\n",
       "      <td>Pulsedriver</td>\n",
       "    </tr>\n",
       "  </tbody>\n",
       "</table>\n",
       "<p>5685 rows × 3 columns</p>\n",
       "</div>"
      ],
      "text/plain": [
       "                Artist_ID                          Artist_MB_ID  \\\n",
       "0      ARZ5H0P1187B98A1DD  f90e8b26-9e52-4669-a5c9-e28529c47894   \n",
       "1      AR9FZZ71187FB4CE11  83ec24f9-6608-46a9-bc43-d2f3aa7cc518   \n",
       "2      ARMAC4T1187FB3FA4C  1bc41dff-5397-4c53-bb50-469d2c277197   \n",
       "3      AR4E4121187FB51F4E  ccd4426f-aef3-48e3-b04e-2e1de3d1f8d6   \n",
       "4      AR7TTS41187B9B42D3  355eed00-6c40-4d33-940a-600b2597407a   \n",
       "...                   ...                                   ...   \n",
       "18336  AROUKFV1187FB3CF2B  51777bfe-9001-4e75-96f4-83e60796146d   \n",
       "18341  ARCR7611187FB4E908  b0ca0d85-24a8-4a00-860d-357ff688b69c   \n",
       "18346  ARWCUWR1187FB470C3  e7f63397-83ae-4506-b015-4b604ac38b01   \n",
       "18359  ARL2Q8V1187FB4920C  c2543756-c98c-452e-b536-60f2ca877046   \n",
       "18360  AR50X381187B9A7374  0c7eedb5-42e4-4002-9456-2da98f5790f1   \n",
       "\n",
       "                          Artist  \n",
       "0                     Snoop Dogg  \n",
       "1                 Thomas Dutronc  \n",
       "2      The Dillinger Escape Plan  \n",
       "3                  A Fine Frenzy  \n",
       "4                  R.L. Burnside  \n",
       "...                          ...  \n",
       "18336                 Sound Team  \n",
       "18341             Bootsy Collins  \n",
       "18346                 Alex Bueno  \n",
       "18359                     Anggun  \n",
       "18360                Pulsedriver  \n",
       "\n",
       "[5685 rows x 3 columns]"
      ]
     },
     "execution_count": 142,
     "metadata": {},
     "output_type": "execute_result"
    }
   ],
   "source": [
    "filtered_tracks_artists_unique"
   ]
  },
  {
   "cell_type": "code",
   "execution_count": 148,
   "id": "0154985b",
   "metadata": {},
   "outputs": [],
   "source": [
    "filtered_tracks_genre_unique.to_csv(\"genre_data.csv\",index=0)"
   ]
  },
  {
   "cell_type": "code",
   "execution_count": 149,
   "id": "62622acb",
   "metadata": {},
   "outputs": [],
   "source": [
    "filtered_tracks_albums_unique.to_csv(\"album_data.csv\",index=0)"
   ]
  },
  {
   "cell_type": "code",
   "execution_count": 196,
   "id": "20fbaa12",
   "metadata": {},
   "outputs": [],
   "source": [
    "filtered_tracks_artists_unique.to_csv(\"artist_data.csv\", index=0)"
   ]
  },
  {
   "cell_type": "code",
   "execution_count": 145,
   "id": "6e94b973",
   "metadata": {},
   "outputs": [
    {
     "data": {
      "text/plain": [
       "['GR8JIQ0MT3H66P6VJK', 'Rap']"
      ]
     },
     "execution_count": 145,
     "metadata": {},
     "output_type": "execute_result"
    }
   ],
   "source": [
    "list(filtered_tracks_genre_unique.iloc[0])"
   ]
  }
 ],
 "metadata": {
  "kernelspec": {
   "display_name": "conda_amazonei_tensorflow2_p36",
   "language": "python",
   "name": "conda_amazonei_tensorflow2_p36"
  },
  "language_info": {
   "codemirror_mode": {
    "name": "ipython",
    "version": 3
   },
   "file_extension": ".py",
   "mimetype": "text/x-python",
   "name": "python",
   "nbconvert_exporter": "python",
   "pygments_lexer": "ipython3",
   "version": "3.6.13"
  }
 },
 "nbformat": 4,
 "nbformat_minor": 5
}
