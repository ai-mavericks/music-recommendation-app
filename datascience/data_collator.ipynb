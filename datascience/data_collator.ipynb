{
 "cells": [
  {
   "cell_type": "code",
   "execution_count": null,
   "metadata": {},
   "outputs": [],
   "source": [
    "import pandas as pd"
   ]
  },
  {
   "cell_type": "code",
   "execution_count": null,
   "metadata": {},
   "outputs": [],
   "source": [
    "full_data = pd.read_csv(\"data.tsv\", sep='\\t', header=0, error_bad_lines=False)"
   ]
  },
  {
   "cell_type": "code",
   "execution_count": null,
   "metadata": {},
   "outputs": [],
   "source": [
    "full_data.head()"
   ]
  },
  {
   "cell_type": "code",
   "execution_count": null,
   "metadata": {},
   "outputs": [],
   "source": [
    "tracks = full_data[[\"#track_id\",\"title\",\"duration\",\"artist_id\"]]"
   ]
  },
  {
   "cell_type": "code",
   "execution_count": null,
   "metadata": {},
   "outputs": [],
   "source": [
    "track_metadata_w_genre_image = pd.read_csv(\"track_metadata_with_genre_and_image.csv\")"
   ]
  },
  {
   "cell_type": "code",
   "execution_count": null,
   "metadata": {},
   "outputs": [],
   "source": [
    "track_metadata_w_genre_image.shape"
   ]
  },
  {
   "cell_type": "code",
   "execution_count": null,
   "metadata": {},
   "outputs": [],
   "source": [
    "track_metadata_w_genre_image.head()"
   ]
  },
  {
   "cell_type": "code",
   "execution_count": null,
   "metadata": {},
   "outputs": [],
   "source": [
    "filtered_tracks_track = track_metadata_w_genre_image[[\"TrackID\",\"Title\",\"PlaybackDuration\",\"Artist_ID\",\"GenreData_Genre\",\"Album\"]]\n",
    "filtered_tracks_track.shape"
   ]
  },
  {
   "cell_type": "code",
   "execution_count": null,
   "metadata": {},
   "outputs": [],
   "source": [
    "filtered_tracks_track_with_genre_id = filtered_tracks_track.merge(filtered_tracks_genre_unique,right_on=\"GenreData_Genre\",left_on=\"GenreData_Genre\")\n",
    "filtered_tracks_track_with_genre_id.shape"
   ]
  },
  {
   "cell_type": "code",
   "execution_count": null,
   "metadata": {},
   "outputs": [],
   "source": [
    "filtered_tracks_track_with_genre_album_id = filtered_tracks_track_with_genre_id.merge(filtered_tracks_albums_unique,right_on=\"Album\",left_on=\"Album\")\n",
    "filtered_tracks_track_with_genre_album_id.shape"
   ]
  },
  {
   "cell_type": "code",
   "execution_count": null,
   "metadata": {},
   "outputs": [],
   "source": [
    "f_filtered_tracks_track_with_genre_album_id = filtered_tracks_track_with_genre_album_id[[\"TrackID\",\"Title\",\"PlaybackDuration\",\"Artist_ID\",\"Genre_ID\",\"Album_ID\"]]\n",
    "f_filtered_tracks_track_with_genre_album_id.shape"
   ]
  },
  {
   "cell_type": "code",
   "execution_count": null,
   "metadata": {},
   "outputs": [],
   "source": [
    "filtered_tracks_data_with_ids = f_filtered_tracks_track_with_genre_album_id.drop_duplicates(subset=[\"TrackID\",\"Artist_ID\",\"Genre_ID\"])\n",
    "filtered_tracks_data_with_ids.to_csv(\"filtered_track_data_with_ids.csv\", index=0)"
   ]
  },
  {
   "cell_type": "code",
   "execution_count": null,
   "metadata": {},
   "outputs": [],
   "source": [
    "f_filtered_tracks_track_with_genre_album_id[f_filtered_tracks_track_with_genre_album_id[\"TrackID\"]==\"TRABCQH128F931525A\"]"
   ]
  },
  {
   "cell_type": "code",
   "execution_count": null,
   "metadata": {},
   "outputs": [],
   "source": [
    "filtered_tracks_albums_unique[filtered_tracks_albums_unique[\"Album_ID\"]==\"AL1DYYNQSWSHZHSAG3\"]"
   ]
  },
  {
   "cell_type": "code",
   "execution_count": null,
   "metadata": {},
   "outputs": [],
   "source": [
    "filtered_tracks_albums_unique[filtered_tracks_albums_unique[\"Album_ID\"]==\"ALVNSBZT6ORQRE2OM6\"]"
   ]
  },
  {
   "cell_type": "code",
   "execution_count": null,
   "metadata": {},
   "outputs": [],
   "source": [
    "filtered_tracks_artists = track_metadata_w_genre_image[[\"Artist_ID\",\"Artist_MB_ID\",\"Artist\"]]\n",
    "filtered_tracks_artists_unique = filtered_tracks_artists.drop_duplicates()\n",
    "filtered_tracks_artists_unique.shape"
   ]
  },
  {
   "cell_type": "code",
   "execution_count": null,
   "metadata": {},
   "outputs": [],
   "source": [
    "filtered_tracks_artists_unique.head()"
   ]
  },
  {
   "cell_type": "code",
   "execution_count": null,
   "metadata": {},
   "outputs": [],
   "source": [
    "filtered_tracks_artists_unique.value_counts()"
   ]
  },
  {
   "cell_type": "code",
   "execution_count": null,
   "metadata": {},
   "outputs": [],
   "source": [
    "filtered_tracks_albums = track_metadata_w_genre_image[[\"Album\",\"Image_URL\",\"ReleaseYear\"]]\n",
    "filtered_tracks_albums.shape"
   ]
  },
  {
   "cell_type": "code",
   "execution_count": null,
   "metadata": {},
   "outputs": [],
   "source": [
    "filtered_tracks_albums_unique = filtered_tracks_albums.drop_duplicates(subset=\"Album\")\n",
    "filtered_tracks_albums_unique.shape"
   ]
  },
  {
   "cell_type": "code",
   "execution_count": null,
   "metadata": {},
   "outputs": [],
   "source": [
    "filtered_tracks_albums_unique.head()"
   ]
  },
  {
   "cell_type": "code",
   "execution_count": null,
   "metadata": {},
   "outputs": [],
   "source": [
    "filtered_tracks_albums_unique.value_counts()"
   ]
  },
  {
   "cell_type": "code",
   "execution_count": null,
   "metadata": {},
   "outputs": [],
   "source": [
    "filtered_tracks_genre = track_metadata_w_genre_image[[\"GenreData_Genre\"]]\n",
    "filtered_tracks_genre.shape"
   ]
  },
  {
   "cell_type": "code",
   "execution_count": null,
   "metadata": {},
   "outputs": [],
   "source": [
    "filtered_tracks_genre_unique = filtered_tracks_genre.drop_duplicates()\n",
    "filtered_tracks_genre_unique.shape"
   ]
  },
  {
   "cell_type": "code",
   "execution_count": null,
   "metadata": {},
   "outputs": [],
   "source": [
    "filtered_tracks_genre_unique.head"
   ]
  },
  {
   "cell_type": "code",
   "execution_count": null,
   "metadata": {},
   "outputs": [],
   "source": [
    "filtered_tracks_genre_unique.value_counts()"
   ]
  },
  {
   "cell_type": "code",
   "execution_count": null,
   "metadata": {},
   "outputs": [],
   "source": [
    "import random\n",
    "import string\n",
    "\n",
    "def generate_alphanumeric_id_string(PREFIX=\"GR\",LIMIT=16):\n",
    "    return \"{}{}\".format(PREFIX,\"\".join(random.choice(string.ascii_uppercase + string.digits) for _ in range(LIMIT)))"
   ]
  },
  {
   "cell_type": "code",
   "execution_count": null,
   "metadata": {},
   "outputs": [],
   "source": [
    "ids = [generate_alphanumeric_id_string(\"GR\",16) for x in range(filtered_tracks_genre_unique.shape[0])]\n",
    "filtered_tracks_genre_unique[\"Genre_ID\"] = ids"
   ]
  },
  {
   "cell_type": "code",
   "execution_count": null,
   "metadata": {},
   "outputs": [],
   "source": [
    "filtered_tracks_genre_unique"
   ]
  },
  {
   "cell_type": "code",
   "execution_count": null,
   "metadata": {},
   "outputs": [],
   "source": [
    "ids = [generate_alphanumeric_id_string(\"AL\",16) for x in range(filtered_tracks_albums_unique.shape[0])]\n",
    "filtered_tracks_albums_unique[\"Album_ID\"] = ids"
   ]
  },
  {
   "cell_type": "code",
   "execution_count": null,
   "metadata": {},
   "outputs": [],
   "source": [
    "filtered_tracks_albums_unique = filtered_tracks_albums_unique[[\"Album_ID\",\"Album\",\"Image_URL\",\"ReleaseYear\"]]"
   ]
  },
  {
   "cell_type": "code",
   "execution_count": null,
   "metadata": {},
   "outputs": [],
   "source": [
    "filtered_tracks_genre_unique = filtered_tracks_genre_unique[[\"Genre_ID\",\"GenreData_Genre\"]]"
   ]
  },
  {
   "cell_type": "code",
   "execution_count": null,
   "metadata": {},
   "outputs": [],
   "source": [
    "filtered_tracks_albums_unique"
   ]
  },
  {
   "cell_type": "code",
   "execution_count": null,
   "metadata": {},
   "outputs": [],
   "source": [
    "filtered_tracks_genre_unique"
   ]
  },
  {
   "cell_type": "code",
   "execution_count": null,
   "metadata": {},
   "outputs": [],
   "source": [
    "filtered_tracks_artists_unique"
   ]
  },
  {
   "cell_type": "code",
   "execution_count": null,
   "metadata": {},
   "outputs": [],
   "source": [
    "filtered_tracks_genre_unique.to_csv(\"genre_data.csv\",index=0)"
   ]
  },
  {
   "cell_type": "code",
   "execution_count": null,
   "metadata": {},
   "outputs": [],
   "source": [
    "filtered_tracks_albums_unique.to_csv(\"album_data.csv\",index=0)"
   ]
  },
  {
   "cell_type": "code",
   "execution_count": null,
   "metadata": {},
   "outputs": [],
   "source": [
    "filtered_tracks_artists_unique.to_csv(\"artist_data.csv\", index=0)"
   ]
  },
  {
   "cell_type": "code",
   "execution_count": null,
   "metadata": {},
   "outputs": [],
   "source": [
    "list(filtered_tracks_genre_unique.iloc[0])"
   ]
  }
 ],
 "metadata": {
  "language_info": {
   "name": "plaintext"
  },
  "orig_nbformat": 4
 },
 "nbformat": 4,
 "nbformat_minor": 2
}
